{
  "metadata": {
    "kernelspec": {
      "name": "python",
      "display_name": "Python (Pyodide)",
      "language": "python"
    },
    "language_info": {
      "codemirror_mode": {
        "name": "python",
        "version": 3
      },
      "file_extension": ".py",
      "mimetype": "text/x-python",
      "name": "python",
      "nbconvert_exporter": "python",
      "pygments_lexer": "ipython3",
      "version": "3.8"
    }
  },
  "nbformat_minor": 4,
  "nbformat": 4,
  "cells": [
    {
      "cell_type": "markdown",
      "source": "# Recommendations with IBM\n\nIn this notebook, you will be putting your recommendation skills to use on real data from the IBM Watson Studio platform. \n\n\nYou may either submit your notebook through the workspace here, or you may work from your local machine and submit through the next page.  Either way assure that your code passes the project [RUBRIC](https://review.udacity.com/#!/rubrics/3325/view).  **Please save regularly.**\n\nBy following the table of contents, you will build out a number of different methods for making recommendations that can be used for different situations. \n\n\n## Table of Contents\n\nI. [Exploratory Data Analysis](#Exploratory-Data-Analysis)<br>\nII. [Rank Based Recommendations](#Rank)<br>\nIII. [User-User Based Collaborative Filtering](#User-User)<br>\nIV. [Content Based Recommendations (EXTRA - NOT REQUIRED)](#Content-Recs)<br>\nV. [Matrix Factorization](#Matrix-Fact)<br>\nVI. [Extras & Concluding](#conclusions)\n\nAt the end of the notebook, you will find directions for how to submit your work.  Let's get started by importing the necessary libraries and reading in the data.",
      "metadata": {}
    },
    {
      "cell_type": "code",
      "source": "import pandas as pd\nimport numpy as np\nimport matplotlib.pyplot as plt\nimport project_tests as t\nimport pickle\n\n%matplotlib inline\n\ndf = pd.read_csv('data/user-item-interactions.csv')\ndf_content = pd.read_csv('data/articles_community.csv')\ndel df['Unnamed: 0']\ndel df_content['Unnamed: 0']\n\n# Show df to get an idea of the data\ndf.head()",
      "metadata": {},
      "outputs": [
        {
          "data": {
            "text/html": [
              "<div>\n",
              "<style scoped>\n",
              "    .dataframe tbody tr th:only-of-type {\n",
              "        vertical-align: middle;\n",
              "    }\n",
              "\n",
              "    .dataframe tbody tr th {\n",
              "        vertical-align: top;\n",
              "    }\n",
              "\n",
              "    .dataframe thead th {\n",
              "        text-align: right;\n",
              "    }\n",
              "</style>\n",
              "<table border=\"1\" class=\"dataframe\">\n",
              "  <thead>\n",
              "    <tr style=\"text-align: right;\">\n",
              "      <th></th>\n",
              "      <th>article_id</th>\n",
              "      <th>title</th>\n",
              "      <th>email</th>\n",
              "    </tr>\n",
              "  </thead>\n",
              "  <tbody>\n",
              "    <tr>\n",
              "      <th>0</th>\n",
              "      <td>1430.0</td>\n",
              "      <td>using pixiedust for fast, flexible, and easier...</td>\n",
              "      <td>ef5f11f77ba020cd36e1105a00ab868bbdbf7fe7</td>\n",
              "    </tr>\n",
              "    <tr>\n",
              "      <th>1</th>\n",
              "      <td>1314.0</td>\n",
              "      <td>healthcare python streaming application demo</td>\n",
              "      <td>083cbdfa93c8444beaa4c5f5e0f5f9198e4f9e0b</td>\n",
              "    </tr>\n",
              "    <tr>\n",
              "      <th>2</th>\n",
              "      <td>1429.0</td>\n",
              "      <td>use deep learning for image classification</td>\n",
              "      <td>b96a4f2e92d8572034b1e9b28f9ac673765cd074</td>\n",
              "    </tr>\n",
              "    <tr>\n",
              "      <th>3</th>\n",
              "      <td>1338.0</td>\n",
              "      <td>ml optimization using cognitive assistant</td>\n",
              "      <td>06485706b34a5c9bf2a0ecdac41daf7e7654ceb7</td>\n",
              "    </tr>\n",
              "    <tr>\n",
              "      <th>4</th>\n",
              "      <td>1276.0</td>\n",
              "      <td>deploy your python model as a restful api</td>\n",
              "      <td>f01220c46fc92c6e6b161b1849de11faacd7ccb2</td>\n",
              "    </tr>\n",
              "  </tbody>\n",
              "</table>\n",
              "</div>"
            ],
            "text/plain": [
              "   article_id                                              title  \\\n",
              "0      1430.0  using pixiedust for fast, flexible, and easier...   \n",
              "1      1314.0       healthcare python streaming application demo   \n",
              "2      1429.0         use deep learning for image classification   \n",
              "3      1338.0          ml optimization using cognitive assistant   \n",
              "4      1276.0          deploy your python model as a restful api   \n",
              "\n",
              "                                      email  \n",
              "0  ef5f11f77ba020cd36e1105a00ab868bbdbf7fe7  \n",
              "1  083cbdfa93c8444beaa4c5f5e0f5f9198e4f9e0b  \n",
              "2  b96a4f2e92d8572034b1e9b28f9ac673765cd074  \n",
              "3  06485706b34a5c9bf2a0ecdac41daf7e7654ceb7  \n",
              "4  f01220c46fc92c6e6b161b1849de11faacd7ccb2  "
            ]
          },
          "execution_count": 1,
          "metadata": {},
          "output_type": "execute_result"
        }
      ],
      "execution_count": 1
    },
    {
      "cell_type": "code",
      "source": "# Show df_content to get an idea of the data\ndf_content.head()",
      "metadata": {},
      "outputs": [
        {
          "data": {
            "text/html": [
              "<div>\n",
              "<style scoped>\n",
              "    .dataframe tbody tr th:only-of-type {\n",
              "        vertical-align: middle;\n",
              "    }\n",
              "\n",
              "    .dataframe tbody tr th {\n",
              "        vertical-align: top;\n",
              "    }\n",
              "\n",
              "    .dataframe thead th {\n",
              "        text-align: right;\n",
              "    }\n",
              "</style>\n",
              "<table border=\"1\" class=\"dataframe\">\n",
              "  <thead>\n",
              "    <tr style=\"text-align: right;\">\n",
              "      <th></th>\n",
              "      <th>doc_body</th>\n",
              "      <th>doc_description</th>\n",
              "      <th>doc_full_name</th>\n",
              "      <th>doc_status</th>\n",
              "      <th>article_id</th>\n",
              "    </tr>\n",
              "  </thead>\n",
              "  <tbody>\n",
              "    <tr>\n",
              "      <th>0</th>\n",
              "      <td>Skip navigation Sign in SearchLoading...\\r\\n\\r...</td>\n",
              "      <td>Detect bad readings in real time using Python ...</td>\n",
              "      <td>Detect Malfunctioning IoT Sensors with Streami...</td>\n",
              "      <td>Live</td>\n",
              "      <td>0</td>\n",
              "    </tr>\n",
              "    <tr>\n",
              "      <th>1</th>\n",
              "      <td>No Free Hunch Navigation * kaggle.com\\r\\n\\r\\n ...</td>\n",
              "      <td>See the forest, see the trees. Here lies the c...</td>\n",
              "      <td>Communicating data science: A guide to present...</td>\n",
              "      <td>Live</td>\n",
              "      <td>1</td>\n",
              "    </tr>\n",
              "    <tr>\n",
              "      <th>2</th>\n",
              "      <td>☰ * Login\\r\\n * Sign Up\\r\\n\\r\\n * Learning Pat...</td>\n",
              "      <td>Here’s this week’s news in Data Science and Bi...</td>\n",
              "      <td>This Week in Data Science (April 18, 2017)</td>\n",
              "      <td>Live</td>\n",
              "      <td>2</td>\n",
              "    </tr>\n",
              "    <tr>\n",
              "      <th>3</th>\n",
              "      <td>DATALAYER: HIGH THROUGHPUT, LOW LATENCY AT SCA...</td>\n",
              "      <td>Learn how distributed DBs solve the problem of...</td>\n",
              "      <td>DataLayer Conference: Boost the performance of...</td>\n",
              "      <td>Live</td>\n",
              "      <td>3</td>\n",
              "    </tr>\n",
              "    <tr>\n",
              "      <th>4</th>\n",
              "      <td>Skip navigation Sign in SearchLoading...\\r\\n\\r...</td>\n",
              "      <td>This video demonstrates the power of IBM DataS...</td>\n",
              "      <td>Analyze NY Restaurant data using Spark in DSX</td>\n",
              "      <td>Live</td>\n",
              "      <td>4</td>\n",
              "    </tr>\n",
              "  </tbody>\n",
              "</table>\n",
              "</div>"
            ],
            "text/plain": [
              "                                            doc_body  \\\n",
              "0  Skip navigation Sign in SearchLoading...\\r\\n\\r...   \n",
              "1  No Free Hunch Navigation * kaggle.com\\r\\n\\r\\n ...   \n",
              "2  ☰ * Login\\r\\n * Sign Up\\r\\n\\r\\n * Learning Pat...   \n",
              "3  DATALAYER: HIGH THROUGHPUT, LOW LATENCY AT SCA...   \n",
              "4  Skip navigation Sign in SearchLoading...\\r\\n\\r...   \n",
              "\n",
              "                                     doc_description  \\\n",
              "0  Detect bad readings in real time using Python ...   \n",
              "1  See the forest, see the trees. Here lies the c...   \n",
              "2  Here’s this week’s news in Data Science and Bi...   \n",
              "3  Learn how distributed DBs solve the problem of...   \n",
              "4  This video demonstrates the power of IBM DataS...   \n",
              "\n",
              "                                       doc_full_name doc_status  article_id  \n",
              "0  Detect Malfunctioning IoT Sensors with Streami...       Live           0  \n",
              "1  Communicating data science: A guide to present...       Live           1  \n",
              "2         This Week in Data Science (April 18, 2017)       Live           2  \n",
              "3  DataLayer Conference: Boost the performance of...       Live           3  \n",
              "4      Analyze NY Restaurant data using Spark in DSX       Live           4  "
            ]
          },
          "execution_count": 2,
          "metadata": {},
          "output_type": "execute_result"
        }
      ],
      "execution_count": 2
    },
    {
      "cell_type": "markdown",
      "source": "### <a class=\"anchor\" id=\"Exploratory-Data-Analysis\">Part I : Exploratory Data Analysis</a>\n\nUse the dictionary and cells below to provide some insight into the descriptive statistics of the data.\n\n`1.` What is the distribution of how many articles a user interacts with in the dataset?  Provide a visual and descriptive statistics to assist with giving a look at the number of times each user interacts with an article.  ",
      "metadata": {}
    },
    {
      "cell_type": "code",
      "source": "user_item_interaction = df.groupby(['email']).count()['article_id'].sort_values(ascending=False)\nuser_item_interaction.head()",
      "metadata": {},
      "outputs": [
        {
          "data": {
            "text/plain": [
              "email\n",
              "2b6c0f514c2f2b04ad3c4583407dccd0810469ee    364\n",
              "77959baaa9895a7e2bdc9297f8b27c1b6f2cb52a    363\n",
              "2f5c7feae533ce046f2cb16fb3a29fe00528ed66    170\n",
              "a37adec71b667b297ed2440a9ff7dad427c7ac85    169\n",
              "8510a5010a5d4c89f5b07baac6de80cd12cfaf93    160\n",
              "Name: article_id, dtype: int64"
            ]
          },
          "execution_count": 3,
          "metadata": {},
          "output_type": "execute_result"
        }
      ],
      "execution_count": 3
    },
    {
      "cell_type": "code",
      "source": "import matplotlib.pyplot as plt\n# Shorten emails to improve readability\nuser_item_interaction.index = user_item_interaction.index.str[:4] + '...' + user_item_interaction.index.str[-4:]\nuser_item_interaction[:20].plot(kind='bar')\nplt.ylabel('articles')\nplt.title('20 most active users')\n\n# Show the plot\nplt.show()",
      "metadata": {},
      "outputs": [
        {
          "data": {
            "image/png": "[encoded data removed]",
            "text/plain": [
              "<Figure size 640x480 with 1 Axes>"
            ]
          },
          "metadata": {},
          "output_type": "display_data"
        }
      ],
      "execution_count": 4
    },
    {
      "cell_type": "code",
      "source": "user_item_interaction.describe()",
      "metadata": {},
      "outputs": [
        {
          "data": {
            "text/plain": [
              "count    5148.000000\n",
              "mean        8.930847\n",
              "std        16.802267\n",
              "min         1.000000\n",
              "25%         1.000000\n",
              "50%         3.000000\n",
              "75%         9.000000\n",
              "max       364.000000\n",
              "Name: article_id, dtype: float64"
            ]
          },
          "execution_count": 5,
          "metadata": {},
          "output_type": "execute_result"
        }
      ],
      "execution_count": 5
    },
    {
      "cell_type": "code",
      "source": "df['article_id'] = df['article_id'].astype(str)\ndf_content['article_id'] = df_content['article_id'].astype(str)\ndf.isna().sum()",
      "metadata": {},
      "outputs": [
        {
          "data": {
            "text/plain": [
              "article_id     0\n",
              "title          0\n",
              "email         17\n",
              "dtype: int64"
            ]
          },
          "execution_count": 6,
          "metadata": {},
          "output_type": "execute_result"
        }
      ],
      "execution_count": 6
    },
    {
      "cell_type": "code",
      "source": "# Fill in the median and maximum number of user_article interactios below\nmedian_val = 3 # 50% of individuals interact with 3 number of articles or fewer.\nmax_views_by_user = 364 # The maximum number of user-article interactions by any 1 user is 364.",
      "metadata": {},
      "outputs": [],
      "execution_count": 7
    },
    {
      "cell_type": "markdown",
      "source": "`2.` Explore and remove duplicate articles from the **df_content** dataframe.  ",
      "metadata": {}
    },
    {
      "cell_type": "code",
      "source": "# Find and explore duplicate articles\nduplicates = df_content[df_content.duplicated(subset='article_id', keep=False)]\nprint(\"Duplicate Articles:\")\nprint(duplicates)",
      "metadata": {},
      "outputs": [
        {
          "name": "stdout",
          "output_type": "stream",
          "text": [
            "Duplicate Articles:\n",
            "                                              doc_body  \\\n",
            "50   Follow Sign in / Sign up Home About Insight Da...   \n",
            "221  * United States\\r\\n\\r\\nIBM® * Site map\\r\\n\\r\\n...   \n",
            "232  Homepage Follow Sign in Get started Homepage *...   \n",
            "365  Follow Sign in / Sign up Home About Insight Da...   \n",
            "399  Homepage Follow Sign in Get started * Home\\r\\n...   \n",
            "578  This video shows you how to construct queries ...   \n",
            "692  Homepage Follow Sign in / Sign up Homepage * H...   \n",
            "761  Homepage Follow Sign in Get started Homepage *...   \n",
            "970  This video shows you how to construct queries ...   \n",
            "971  Homepage Follow Sign in Get started * Home\\r\\n...   \n",
            "\n",
            "                                       doc_description  \\\n",
            "50                        Community Detection at Scale   \n",
            "221  When used to make sense of huge amounts of con...   \n",
            "232  If you are like most data scientists, you are ...   \n",
            "365  During the seven-week Insight Data Engineering...   \n",
            "399  Today’s world of data science leverages data f...   \n",
            "578  This video shows you how to construct queries ...   \n",
            "692  One of the earliest documented catalogs was co...   \n",
            "761  Today’s world of data science leverages data f...   \n",
            "970  This video shows you how to construct queries ...   \n",
            "971  If you are like most data scientists, you are ...   \n",
            "\n",
            "                                         doc_full_name doc_status article_id  \n",
            "50                        Graph-based machine learning       Live         50  \n",
            "221  How smart catalogs can turn the big data flood...       Live        221  \n",
            "232  Self-service data preparation with IBM Data Re...       Live        232  \n",
            "365                       Graph-based machine learning       Live         50  \n",
            "399  Using Apache Spark as a parallel processing fr...       Live        398  \n",
            "578                              Use the Primary Index       Live        577  \n",
            "692  How smart catalogs can turn the big data flood...       Live        221  \n",
            "761  Using Apache Spark as a parallel processing fr...       Live        398  \n",
            "970                              Use the Primary Index       Live        577  \n",
            "971  Self-service data preparation with IBM Data Re...       Live        232  \n"
          ]
        }
      ],
      "execution_count": 8
    },
    {
      "cell_type": "code",
      "source": "# Remove any rows that have the same article_id - only keep the first\ndf_content = df_content.drop_duplicates(subset='article_id', keep='first')",
      "metadata": {},
      "outputs": [],
      "execution_count": 9
    },
    {
      "cell_type": "markdown",
      "source": "`3.` Use the cells below to find:\n\n**a.** The number of unique articles that have an interaction with a user.  \n**b.** The number of unique articles in the dataset (whether they have any interactions or not).<br>\n**c.** The number of unique users in the dataset. (excluding null values) <br>\n**d.** The number of user-article interactions in the dataset.",
      "metadata": {}
    },
    {
      "cell_type": "code",
      "source": "df['email'].nunique(dropna=True)",
      "metadata": {},
      "outputs": [
        {
          "data": {
            "text/plain": [
              "5148"
            ]
          },
          "execution_count": 10,
          "metadata": {},
          "output_type": "execute_result"
        }
      ],
      "execution_count": 10
    },
    {
      "cell_type": "code",
      "source": "print('Ad. a, c')\nfor i in df.columns:\n    print(i, \" \", df[i].nunique())\n    \nprint('Ad. b')\nprint(len(df_content))\n    \nprint('Ad. d')\nlen(df)",
      "metadata": {},
      "outputs": [
        {
          "name": "stdout",
          "output_type": "stream",
          "text": [
            "Ad. a, c\n",
            "article_id   714\n",
            "title   714\n",
            "email   5148\n",
            "Ad. b\n",
            "1051\n",
            "Ad. d\n"
          ]
        },
        {
          "data": {
            "text/plain": [
              "45993"
            ]
          },
          "execution_count": 11,
          "metadata": {},
          "output_type": "execute_result"
        }
      ],
      "execution_count": 11
    },
    {
      "cell_type": "code",
      "source": "unique_articles = 714 # The number of unique articles that have at least one interaction\ntotal_articles = 1051 # The number of unique articles on the IBM platform\nunique_users = 5148 # The number of unique users\nuser_article_interactions = 45993 # The number of user-article interactions",
      "metadata": {},
      "outputs": [],
      "execution_count": 12
    },
    {
      "cell_type": "markdown",
      "source": "`4.` Use the cells below to find the most viewed **article_id**, as well as how often it was viewed.  After talking to the company leaders, the `email_mapper` function was deemed a reasonable way to map users to ids.  There were a small number of null values, and it was found that all of these null values likely belonged to a single user (which is how they are stored using the function below).",
      "metadata": {}
    },
    {
      "cell_type": "code",
      "source": "import seaborn as sns\narticle_counts = pd.DataFrame(df['article_id'].value_counts().sort_values(ascending=False).reset_index().head(10))\nsns.barplot(y=article_counts['article_id'], x =article_counts['index'], order=article_counts['index'])",
      "metadata": {},
      "outputs": [
        {
          "data": {
            "text/plain": [
              "<Axes: xlabel='index', ylabel='article_id'>"
            ]
          },
          "execution_count": 13,
          "metadata": {},
          "output_type": "execute_result"
        },
        {
          "data": {
            "image/png": "[encoded data removed]",
            "text/plain": [
              "<Figure size 640x480 with 1 Axes>"
            ]
          },
          "metadata": {},
          "output_type": "display_data"
        }
      ],
      "execution_count": 13
    },
    {
      "cell_type": "code",
      "source": "df[df['article_id'].isin(article_counts['index'].values)]['title'].value_counts()",
      "metadata": {},
      "outputs": [
        {
          "data": {
            "text/plain": [
              "use deep learning for image classification                            937\n",
              "insights from new york car accident reports                           927\n",
              "visualize car data with brunel                                        671\n",
              "use xgboost, scikit-learn & ibm watson machine learning apis          643\n",
              "predicting churn with the spss random tree algorithm                  627\n",
              "healthcare python streaming application demo                          614\n",
              "finding optimal locations of new store using decision optimization    572\n",
              "apache spark lab, part 1: basic concepts                              565\n",
              "analyze energy consumption in buildings                               512\n",
              "gosales transactions for logistic regression model                    483\n",
              "Name: title, dtype: int64"
            ]
          },
          "execution_count": 14,
          "metadata": {},
          "output_type": "execute_result"
        }
      ],
      "execution_count": 14
    },
    {
      "cell_type": "code",
      "source": "most_viewed_article_id = '1429.0' # The most viewed article in the dataset as a string with one value following the decimal \nmax_views = 937 # The most viewed article in the dataset was viewed how many times?",
      "metadata": {},
      "outputs": [],
      "execution_count": 15
    },
    {
      "cell_type": "code",
      "source": "## No need to change the code here - this will be helpful for later parts of the notebook\n# Run this cell to map the user email to a user_id column and remove the email column\n\ndef email_mapper():\n    coded_dict = dict()\n    cter = 1\n    email_encoded = []\n    \n    for val in df['email']:\n        if val not in coded_dict:\n            coded_dict[val] = cter\n            cter+=1\n        \n        email_encoded.append(coded_dict[val])\n    return email_encoded\n\nemail_encoded = email_mapper()\ndel df['email']\ndf['user_id'] = email_encoded\n\n# show header\ndf.head()",
      "metadata": {},
      "outputs": [
        {
          "data": {
            "text/html": [
              "<div>\n",
              "<style scoped>\n",
              "    .dataframe tbody tr th:only-of-type {\n",
              "        vertical-align: middle;\n",
              "    }\n",
              "\n",
              "    .dataframe tbody tr th {\n",
              "        vertical-align: top;\n",
              "    }\n",
              "\n",
              "    .dataframe thead th {\n",
              "        text-align: right;\n",
              "    }\n",
              "</style>\n",
              "<table border=\"1\" class=\"dataframe\">\n",
              "  <thead>\n",
              "    <tr style=\"text-align: right;\">\n",
              "      <th></th>\n",
              "      <th>article_id</th>\n",
              "      <th>title</th>\n",
              "      <th>user_id</th>\n",
              "    </tr>\n",
              "  </thead>\n",
              "  <tbody>\n",
              "    <tr>\n",
              "      <th>0</th>\n",
              "      <td>1430.0</td>\n",
              "      <td>using pixiedust for fast, flexible, and easier...</td>\n",
              "      <td>1</td>\n",
              "    </tr>\n",
              "    <tr>\n",
              "      <th>1</th>\n",
              "      <td>1314.0</td>\n",
              "      <td>healthcare python streaming application demo</td>\n",
              "      <td>2</td>\n",
              "    </tr>\n",
              "    <tr>\n",
              "      <th>2</th>\n",
              "      <td>1429.0</td>\n",
              "      <td>use deep learning for image classification</td>\n",
              "      <td>3</td>\n",
              "    </tr>\n",
              "    <tr>\n",
              "      <th>3</th>\n",
              "      <td>1338.0</td>\n",
              "      <td>ml optimization using cognitive assistant</td>\n",
              "      <td>4</td>\n",
              "    </tr>\n",
              "    <tr>\n",
              "      <th>4</th>\n",
              "      <td>1276.0</td>\n",
              "      <td>deploy your python model as a restful api</td>\n",
              "      <td>5</td>\n",
              "    </tr>\n",
              "  </tbody>\n",
              "</table>\n",
              "</div>"
            ],
            "text/plain": [
              "  article_id                                              title  user_id\n",
              "0     1430.0  using pixiedust for fast, flexible, and easier...        1\n",
              "1     1314.0       healthcare python streaming application demo        2\n",
              "2     1429.0         use deep learning for image classification        3\n",
              "3     1338.0          ml optimization using cognitive assistant        4\n",
              "4     1276.0          deploy your python model as a restful api        5"
            ]
          },
          "execution_count": 16,
          "metadata": {},
          "output_type": "execute_result"
        }
      ],
      "execution_count": 16
    },
    {
      "cell_type": "code",
      "source": "## If you stored all your results in the variable names above, \n## you shouldn't need to change anything in this cell\n\nsol_1_dict = {\n    '`50% of individuals have _____ or fewer interactions.`': median_val,\n    '`The total number of user-article interactions in the dataset is ______.`': user_article_interactions,\n    '`The maximum number of user-article interactions by any 1 user is ______.`': max_views_by_user,\n    '`The most viewed article in the dataset was viewed _____ times.`': max_views,\n    '`The article_id of the most viewed article is ______.`': most_viewed_article_id,\n    '`The number of unique articles that have at least 1 rating ______.`': unique_articles,\n    '`The number of unique users in the dataset is ______`': unique_users,\n    '`The number of unique articles on the IBM platform`': total_articles\n}\n\n# Test your dictionary against the solution\nt.sol_1_test(sol_1_dict)",
      "metadata": {},
      "outputs": [
        {
          "name": "stdout",
          "output_type": "stream",
          "text": [
            "It looks like you have everything right here! Nice job!\n"
          ]
        }
      ],
      "execution_count": 17
    },
    {
      "cell_type": "markdown",
      "source": "### <a class=\"anchor\" id=\"Rank\">Part II: Rank-Based Recommendations</a>\n\nUnlike in the earlier lessons, we don't actually have ratings for whether a user liked an article or not.  We only know that a user has interacted with an article.  In these cases, the popularity of an article can really only be based on how often an article was interacted with.\n\n`1.` Fill in the function below to return the **n** top articles ordered with most interactions as the top. Test your function using the tests below.",
      "metadata": {}
    },
    {
      "cell_type": "code",
      "source": "def get_top_articles(n, df=df):\n    '''\n    INPUT:\n    n - (int) the number of top articles to return\n    df - (pandas dataframe) df as defined at the top of the notebook \n    \n    OUTPUT:\n    top_articles - (list) A list of the top 'n' article titles \n    \n    '''\n    df_sort = pd.DataFrame(df['article_id'].value_counts().sort_values(ascending=False))\n    top_articles = list(df_sort.index[:n])\n    top_articles = df[df['article_id'].isin(top_articles)]['title'].unique().tolist()\n    \n    return top_articles # Return the top article titles from df (not df_content)\n\ndef get_top_article_ids(n, df=df):\n    '''\n    INPUT:\n    n - (int) the number of top articles to return\n    df - (pandas dataframe) df as defined at the top of the notebook \n    \n    OUTPUT:\n    top_articles - (list) A list of the top 'n' article titles \n    \n    '''\n    df_sort = pd.DataFrame(df['article_id'].value_counts().sort_values(ascending=False))\n    top_articles = list(df_sort.index.values[:n])\n \n    return top_articles # Return the top article ids",
      "metadata": {},
      "outputs": [],
      "execution_count": 18
    },
    {
      "cell_type": "code",
      "source": "print(get_top_articles(10))\nprint(get_top_article_ids(10))",
      "metadata": {},
      "outputs": [
        {
          "name": "stdout",
          "output_type": "stream",
          "text": [
            "['healthcare python streaming application demo', 'use deep learning for image classification', 'apache spark lab, part 1: basic concepts', 'predicting churn with the spss random tree algorithm', 'analyze energy consumption in buildings', 'visualize car data with brunel', 'use xgboost, scikit-learn & ibm watson machine learning apis', 'gosales transactions for logistic regression model', 'insights from new york car accident reports', 'finding optimal locations of new store using decision optimization']\n",
            "['1429.0', '1330.0', '1431.0', '1427.0', '1364.0', '1314.0', '1293.0', '1170.0', '1162.0', '1304.0']\n"
          ]
        }
      ],
      "execution_count": 19
    },
    {
      "cell_type": "code",
      "source": "# Test your function by returning the top 5, 10, and 20 articles\ntop_5 = get_top_articles(5)\ntop_10 = get_top_articles(10)\ntop_20 = get_top_articles(20)\n\n# Test each of your three lists from above\nt.sol_2_test(get_top_articles)",
      "metadata": {},
      "outputs": [
        {
          "name": "stdout",
          "output_type": "stream",
          "text": [
            "Your top_5 looks like the solution list! Nice job.\n",
            "Your top_10 looks like the solution list! Nice job.\n",
            "Your top_20 looks like the solution list! Nice job.\n"
          ]
        }
      ],
      "execution_count": 20
    },
    {
      "cell_type": "markdown",
      "source": "### <a class=\"anchor\" id=\"User-User\">Part III: User-User Based Collaborative Filtering</a>\n\n\n`1.` Use the function below to reformat the **df** dataframe to be shaped with users as the rows and articles as the columns.  \n\n* Each **user** should only appear in each **row** once.\n\n\n* Each **article** should only show up in one **column**.  \n\n\n* **If a user has interacted with an article, then place a 1 where the user-row meets for that article-column**.  It does not matter how many times a user has interacted with the article, all entries where a user has interacted with an article should be a 1.  \n\n\n* **If a user has not interacted with an item, then place a zero where the user-row meets for that article-column**. \n\nUse the tests to make sure the basic structure of your matrix matches what is expected by the solution.",
      "metadata": {}
    },
    {
      "cell_type": "code",
      "source": "# create the user-article matrix with 1's and 0's\n\ndef create_user_item_matrix(df):\n    '''\n    INPUT:\n    df - pandas dataframe with article_id, title, user_id columns\n    \n    OUTPUT:\n    user_item - user item matrix \n    \n    Description:\n    Return a matrix with user ids as rows and article ids on the columns with 1 values where a user interacted with \n    an article and a 0 otherwise\n    '''\n    user_item = df.drop_duplicates(subset=['article_id', 'user_id']).groupby(['user_id','article_id'])['title'].count().unstack(fill_value=0)\n    \n    return user_item # return the user_item matrix \n\nuser_item = create_user_item_matrix(df)",
      "metadata": {},
      "outputs": [],
      "execution_count": 21
    },
    {
      "cell_type": "code",
      "source": "## Tests: You should just need to run this cell.  Don't change the code.\nassert user_item.shape[0] == 5149, \"Oops!  The number of users in the user-article matrix doesn't look right.\"\nassert user_item.shape[1] == 714, \"Oops!  The number of articles in the user-article matrix doesn't look right.\"\nassert user_item.sum(axis=1)[1] == 36, \"Oops!  The number of articles seen by user 1 doesn't look right.\"\nprint(\"You have passed our quick tests!  Please proceed!\")",
      "metadata": {},
      "outputs": [
        {
          "name": "stdout",
          "output_type": "stream",
          "text": [
            "You have passed our quick tests!  Please proceed!\n"
          ]
        }
      ],
      "execution_count": 22
    },
    {
      "cell_type": "markdown",
      "source": "`2.` Complete the function below which should take a user_id and provide an ordered list of the most similar users to that user (from most similar to least similar).  The returned result should not contain the provided user_id, as we know that each user is similar to him/herself. Because the results for each user here are binary, it (perhaps) makes sense to compute similarity as the dot product of two users. \n\nUse the tests to test your function.",
      "metadata": {}
    },
    {
      "cell_type": "code",
      "source": "def find_similar_users(user_id, user_item=user_item):\n    '''\n    INPUT:\n    user_id - (int) a user_id\n    user_item - (pandas dataframe) matrix of users by articles: \n                1's when a user has interacted with an article, 0 otherwise\n    \n    OUTPUT:\n    similar_users - (list) an ordered list where the closest users (largest dot product users)\n                    are listed first\n    \n    Description:\n    Computes the similarity of every pair of users based on the dot product\n    Returns an ordered\n    \n    '''\n    # compute similarity of each user to the provided user\n\n    similarity = {}\n    \n    for user in range(1,len(user_item)+1):\n            similarity[user] = user_item.loc[user_id].dot(user_item.loc[user])\n\n    # sort by similarity\n    similarity = sorted(similarity.items(), key=lambda kv: kv[1], reverse = True)\n\n    # create list of just the ids\n    most_similar_users = [k for k,v in similarity if k != user_id]\n    # remove the own user's id (done above)\n       \n    return most_similar_users # return a list of the users in order from most to least similar\n        ",
      "metadata": {},
      "outputs": [],
      "execution_count": 23
    },
    {
      "cell_type": "code",
      "source": "# Do a spot check of your function\nprint(\"The 10 most similar users to user 1 are: {}\".format(find_similar_users(1)[:10]))\nprint(\"The 5 most similar users to user 3933 are: {}\".format(find_similar_users(3933)[:5]))\nprint(\"The 3 most similar users to user 46 are: {}\".format(find_similar_users(46)[:3]))",
      "metadata": {},
      "outputs": [
        {
          "name": "stdout",
          "output_type": "stream",
          "text": [
            "The 10 most similar users to user 1 are: [3933, 23, 3782, 203, 4459, 131, 3870, 46, 4201, 49]\n",
            "The 5 most similar users to user 3933 are: [1, 23, 3782, 203, 4459]\n",
            "The 3 most similar users to user 46 are: [4201, 23, 3782]\n"
          ]
        }
      ],
      "execution_count": 24
    },
    {
      "cell_type": "markdown",
      "source": "`3.` Now that you have a function that provides the most similar users to each user, you will want to use these users to find articles you can recommend.  Complete the functions below to return the articles you would recommend to each user. ",
      "metadata": {}
    },
    {
      "cell_type": "code",
      "source": "def get_article_names(article_ids, df=df):\n    '''\n    INPUT:\n    article_ids - (list) a list of article ids\n    df - (pandas dataframe) df as defined at the top of the notebook\n    \n    OUTPUT:\n    article_names - (list) a list of article names associated with the list of article ids \n                    (this is identified by the title column)\n    '''\n    article_names = df[df['article_id'].isin(article_ids)]['title'].unique().tolist()\n    \n    return article_names # Return the article names associated with list of article ids\n\n\ndef get_user_articles(user_id, user_item=user_item):\n    '''\n    INPUT:\n    user_id - (int) a user id\n    user_item - (pandas dataframe) matrix of users by articles: \n                1's when a user has interacted with an article, 0 otherwise\n    \n    OUTPUT:\n    article_ids - (list) a list of the article ids seen by the user\n    article_names - (list) a list of article names associated with the list of article ids \n                    (this is identified by the doc_full_name column in df_content)\n    \n    Description:\n    Provides a list of the article_ids and article titles that have been seen by a user\n    '''\n    article_ids = list([i for i,j in zip(user_item.loc[user_id].index,user_item.loc[user_id]) if j==1])\n    article_names = get_article_names(article_ids)\n    \n    return article_ids, article_names # return the ids and names\n\n\ndef user_user_recs(user_id, m=10):\n    '''\n    INPUT:\n    user_id - (int) a user id\n    m - (int) the number of recommendations you want for the user\n    \n    OUTPUT:\n    recs - (list) a list of recommendations for the user\n    \n    Description:\n    Loops through the users based on closeness to the input user_id\n    For each user - finds articles the user hasn't seen before and provides them as recs\n    Does this until m recommendations are found\n    \n    Notes:\n    Users who are the same closeness are chosen arbitrarily as the 'next' user\n    \n    For the user where the number of recommended articles starts below m \n    and ends exceeding m, the last items are chosen arbitrarily\n    \n    '''\n    \n    recs = []\n    \n    most_similar_users = find_similar_users(user_id)\n    articles_seen = np.array(get_user_articles(user_id)[0])\n    \n    for user in most_similar_users:\n        similar_articles = np.array(get_user_articles(user)[0])\n        articles_not_seen = np.setdiff1d(similar_articles, articles_seen, assume_unique=True).tolist()\n        recs += articles_not_seen\n        \n        if len(recs) >= m:\n            break \n        \n    recs = recs[:m]\n    \n    return recs # return your recommendations for this user_id    ",
      "metadata": {},
      "outputs": [],
      "execution_count": 25
    },
    {
      "cell_type": "code",
      "source": "# Check Results\nget_article_names(user_user_recs(1, 10)) # Return 10 recommendations for user 1",
      "metadata": {},
      "outputs": [
        {
          "data": {
            "text/plain": [
              "['analyze energy consumption in buildings',\n",
              " 'analyze accident reports on amazon emr spark',\n",
              " '520    using notebooks with pixiedust for fast, flexi...\\nName: title, dtype: object',\n",
              " '1448    i ranked every intro to data science course on...\\nName: title, dtype: object',\n",
              " 'data tidying in data science experience',\n",
              " 'airbnb data for analytics: vancouver listings',\n",
              " 'recommender systems: approaches & algorithms',\n",
              " 'airbnb data for analytics: mallorca reviews',\n",
              " 'analyze facebook data using ibm watson and watson studio',\n",
              " 'a tensorflow regression model to predict house values']"
            ]
          },
          "execution_count": 26,
          "metadata": {},
          "output_type": "execute_result"
        }
      ],
      "execution_count": 26
    },
    {
      "cell_type": "code",
      "source": "# Test your functions here - No need to change this code - just run this cell\nassert set(get_article_names(['1024.0', '1176.0', '1305.0', '1314.0', '1422.0', '1427.0'])) == set(['using deep learning to reconstruct high-resolution audio', 'build a python app on the streaming analytics service', 'gosales transactions for naive bayes model', 'healthcare python streaming application demo', 'use r dataframes & ibm watson natural language understanding', 'use xgboost, scikit-learn & ibm watson machine learning apis']), \"Oops! Your the get_article_names function doesn't work quite how we expect.\"\nassert set(get_article_names(['1320.0', '232.0', '844.0'])) == set(['housing (2015): united states demographic measures','self-service data preparation with ibm data refinery','use the cloudant-spark connector in python notebook']), \"Oops! Your the get_article_names function doesn't work quite how we expect.\"\nassert set(get_user_articles(20)[0]) == set(['1320.0', '232.0', '844.0'])\nassert set(get_user_articles(20)[1]) == set(['housing (2015): united states demographic measures', 'self-service data preparation with ibm data refinery','use the cloudant-spark connector in python notebook'])\nassert set(get_user_articles(2)[0]) == set(['1024.0', '1176.0', '1305.0', '1314.0', '1422.0', '1427.0'])\nassert set(get_user_articles(2)[1]) == set(['using deep learning to reconstruct high-resolution audio', 'build a python app on the streaming analytics service', 'gosales transactions for naive bayes model', 'healthcare python streaming application demo', 'use r dataframes & ibm watson natural language understanding', 'use xgboost, scikit-learn & ibm watson machine learning apis'])\nprint(\"If this is all you see, you passed all of our tests!  Nice job!\")",
      "metadata": {},
      "outputs": [
        {
          "name": "stdout",
          "output_type": "stream",
          "text": [
            "If this is all you see, you passed all of our tests!  Nice job!\n"
          ]
        }
      ],
      "execution_count": 27
    },
    {
      "cell_type": "markdown",
      "source": "`4.` Now we are going to improve the consistency of the **user_user_recs** function from above.  \n\n* Instead of arbitrarily choosing when we obtain users who are all the same closeness to a given user - choose the users that have the most total article interactions before choosing those with fewer article interactions.\n\n\n* Instead of arbitrarily choosing articles from the user where the number of recommended articles starts below m and ends exceeding m, choose articles with the articles with the most total interactions before choosing those with fewer total interactions. This ranking should be  what would be obtained from the **top_articles** function you wrote earlier.",
      "metadata": {}
    },
    {
      "cell_type": "code",
      "source": "def get_top_sorted_users(user_id, df=df, user_item=user_item):\n    '''\n    INPUT:\n    user_id - (int)\n    df - (pandas dataframe) df as defined at the top of the notebook \n    user_item - (pandas dataframe) matrix of users by articles: \n            1's when a user has interacted with an article, 0 otherwise\n    \n            \n    OUTPUT:\n    neighbors_df - (pandas dataframe) a dataframe with:\n                    neighbor_id - is a neighbor user_id\n                    similarity - measure of the similarity of each user to the provided user_id\n                    num_interactions - the number of articles viewed by the user - if a u\n                    \n    Other Details - sort the neighbors_df by the similarity and then by number of interactions where \n                    highest of each is higher in the dataframe\n     \n    '''\n    similarity = user_item.dot(user_item.loc[user_id])\n    \n    # Dataframe with neighbor_id, similarity, and num_interactions\n    neighbors_df = pd.DataFrame({\n        'neighbor_id': similarity.index,\n        'similarity': similarity.values,\n        'num_interactions': df.groupby('user_id').size().loc[similarity.index].values\n    })\n    \n    # Sort the dataframe\n    neighbors_df.sort_values(by=['similarity', 'num_interactions'], ascending=False, inplace=True)\n    \n    # Remove current user from the dataframe\n    neighbors_df = neighbors_df[neighbors_df['neighbor_id'] != user_id]\n    \n    return neighbors_df\n\ndef user_user_recs_part2(user_id, m=10):\n    '''\n    INPUT:\n    user_id - (int) a user id\n    m - (int) the number of recommendations you want for the user\n    \n    OUTPUT:\n    recs - (list) a list of recommendations for the user by article id\n    rec_names - (list) a list of recommendations for the user by article title\n    \n    Description:\n    Loops through the users based on closeness to the input user_id\n    For each user - finds articles the user hasn't seen before and provides them as recs\n    Does this until m recommendations are found\n    \n    Notes:\n    * Choose the users that have the most total article interactions \n    before choosing those with fewer article interactions.\n\n    * Choose articles with the articles with the most total interactions \n    before choosing those with fewer total interactions. \n   \n    '''\n    neighbors_df = get_top_sorted_users(user_id)\n    \n    # no. of unique articles\n    n = df['article_id'].nunique()\n    \n    recs = []\n    \n    # articles seen by the user\n    articles_seen = np.array(get_user_articles(user_id)[0])\n    \n    # loop through similar users\n    for user in neighbors_df['neighbor_id']:\n        similar_articles = np.array(get_user_articles(user)[0])\n        articles_not_seen = np.setdiff1d(similar_articles, articles_seen, assume_unique=True).tolist()\n        articles_not_seen = df.groupby(['article_id'])['user_id'].count()[articles_not_seen].sort_values(ascending=False).index.tolist()\n        recs += articles_not_seen\n        \n        # store only unique recommendations\n        recs = np.unique(recs)\n        \n        if len(recs) >= m:\n            break\n        \n    recs = recs[:m]\n    rec_names = get_article_names(recs)\n    \n    return recs, rec_names",
      "metadata": {},
      "outputs": [],
      "execution_count": 28
    },
    {
      "cell_type": "code",
      "source": "# Quick spot check - don't change this code - just use it to test your functions\nrec_ids, rec_names = user_user_recs_part2(20, 10)\nprint(\"The top 10 recommendations for user 20 are the following article ids:\")\nprint(rec_ids)\nprint()\nprint(\"The top 10 recommendations for user 20 are the following article names:\")\nprint(rec_names)",
      "metadata": {},
      "outputs": [
        {
          "name": "stdout",
          "output_type": "stream",
          "text": [
            "The top 10 recommendations for user 20 are the following article ids:\n",
            "['1024.0' '1085.0' '109.0' '1150.0' '1151.0' '1152.0' '1153.0' '1154.0'\n",
            " '1157.0' '1160.0']\n",
            "\n",
            "The top 10 recommendations for user 20 are the following article names:\n",
            "['airbnb data for analytics: washington d.c. listings', 'analyze accident reports on amazon emr spark', 'tensorflow quick tips', 'airbnb data for analytics: venice listings', 'airbnb data for analytics: venice calendar', 'airbnb data for analytics: venice reviews', 'using deep learning to reconstruct high-resolution audio', 'airbnb data for analytics: vienna listings', 'airbnb data for analytics: vienna calendar', 'airbnb data for analytics: chicago listings']\n"
          ]
        }
      ],
      "execution_count": 29
    },
    {
      "cell_type": "markdown",
      "source": "`5.` Use your functions from above to correctly fill in the solutions to the dictionary below.  Then test your dictionary against the solution.  Provide the code you need to answer each following the comments below.",
      "metadata": {}
    },
    {
      "cell_type": "code",
      "source": "def find_similar(user_id, user_item=user_item):\n    similarity = {}\n    \n    for user in range(1, len(user_item) + 1):\n        similarity[user] = user_item.loc[user_id].dot(user_item.loc[user])\n\n    similarity = sorted(similarity.items(), key=lambda kv: kv[1], reverse=True)\n\n    similar_users = [k for k, v in similarity if k != user_id]\n    \n    return similar_users",
      "metadata": {},
      "outputs": [],
      "execution_count": 30
    },
    {
      "cell_type": "code",
      "source": "find_similar(1)[:1]",
      "metadata": {},
      "outputs": [
        {
          "data": {
            "text/plain": [
              "[3933]"
            ]
          },
          "execution_count": 31,
          "metadata": {},
          "output_type": "execute_result"
        }
      ],
      "execution_count": 31
    },
    {
      "cell_type": "code",
      "source": "find_similar(131)[9]",
      "metadata": {
        "scrolled": true
      },
      "outputs": [
        {
          "data": {
            "text/plain": [
              "242"
            ]
          },
          "execution_count": 32,
          "metadata": {},
          "output_type": "execute_result"
        }
      ],
      "execution_count": 32
    },
    {
      "cell_type": "code",
      "source": "get_top_sorted_users(1)[:1]",
      "metadata": {},
      "outputs": [
        {
          "data": {
            "text/html": [
              "<div>\n",
              "<style scoped>\n",
              "    .dataframe tbody tr th:only-of-type {\n",
              "        vertical-align: middle;\n",
              "    }\n",
              "\n",
              "    .dataframe tbody tr th {\n",
              "        vertical-align: top;\n",
              "    }\n",
              "\n",
              "    .dataframe thead th {\n",
              "        text-align: right;\n",
              "    }\n",
              "</style>\n",
              "<table border=\"1\" class=\"dataframe\">\n",
              "  <thead>\n",
              "    <tr style=\"text-align: right;\">\n",
              "      <th></th>\n",
              "      <th>neighbor_id</th>\n",
              "      <th>similarity</th>\n",
              "      <th>num_interactions</th>\n",
              "    </tr>\n",
              "  </thead>\n",
              "  <tbody>\n",
              "    <tr>\n",
              "      <th>3932</th>\n",
              "      <td>3933</td>\n",
              "      <td>35</td>\n",
              "      <td>45</td>\n",
              "    </tr>\n",
              "  </tbody>\n",
              "</table>\n",
              "</div>"
            ],
            "text/plain": [
              "      neighbor_id  similarity  num_interactions\n",
              "3932         3933          35                45"
            ]
          },
          "execution_count": 34,
          "metadata": {},
          "output_type": "execute_result"
        }
      ],
      "execution_count": 34
    },
    {
      "cell_type": "code",
      "source": "### Tests with a dictionary of results\n\nuser1_most_sim = get_top_sorted_users(1)[:1] # Find the user that is most similar to user 1 \nuser131_10th_sim = get_top_sorted_users(131)[:9] # Find the 10th most similar user to user 131\n",
      "metadata": {},
      "outputs": [],
      "execution_count": 35
    },
    {
      "cell_type": "code",
      "source": "get_top_sorted_users(131)",
      "metadata": {},
      "outputs": [
        {
          "data": {
            "text/html": [
              "<div>\n",
              "<style scoped>\n",
              "    .dataframe tbody tr th:only-of-type {\n",
              "        vertical-align: middle;\n",
              "    }\n",
              "\n",
              "    .dataframe tbody tr th {\n",
              "        vertical-align: top;\n",
              "    }\n",
              "\n",
              "    .dataframe thead th {\n",
              "        text-align: right;\n",
              "    }\n",
              "</style>\n",
              "<table border=\"1\" class=\"dataframe\">\n",
              "  <thead>\n",
              "    <tr style=\"text-align: right;\">\n",
              "      <th></th>\n",
              "      <th>neighbor_id</th>\n",
              "      <th>similarity</th>\n",
              "      <th>num_interactions</th>\n",
              "    </tr>\n",
              "  </thead>\n",
              "  <tbody>\n",
              "    <tr>\n",
              "      <th>3869</th>\n",
              "      <td>3870</td>\n",
              "      <td>74</td>\n",
              "      <td>144</td>\n",
              "    </tr>\n",
              "    <tr>\n",
              "      <th>3781</th>\n",
              "      <td>3782</td>\n",
              "      <td>39</td>\n",
              "      <td>363</td>\n",
              "    </tr>\n",
              "    <tr>\n",
              "      <th>22</th>\n",
              "      <td>23</td>\n",
              "      <td>38</td>\n",
              "      <td>364</td>\n",
              "    </tr>\n",
              "    <tr>\n",
              "      <th>202</th>\n",
              "      <td>203</td>\n",
              "      <td>33</td>\n",
              "      <td>160</td>\n",
              "    </tr>\n",
              "    <tr>\n",
              "      <th>4458</th>\n",
              "      <td>4459</td>\n",
              "      <td>33</td>\n",
              "      <td>158</td>\n",
              "    </tr>\n",
              "    <tr>\n",
              "      <th>...</th>\n",
              "      <td>...</td>\n",
              "      <td>...</td>\n",
              "      <td>...</td>\n",
              "    </tr>\n",
              "    <tr>\n",
              "      <th>5130</th>\n",
              "      <td>5131</td>\n",
              "      <td>0</td>\n",
              "      <td>1</td>\n",
              "    </tr>\n",
              "    <tr>\n",
              "      <th>5140</th>\n",
              "      <td>5141</td>\n",
              "      <td>0</td>\n",
              "      <td>1</td>\n",
              "    </tr>\n",
              "    <tr>\n",
              "      <th>5143</th>\n",
              "      <td>5144</td>\n",
              "      <td>0</td>\n",
              "      <td>1</td>\n",
              "    </tr>\n",
              "    <tr>\n",
              "      <th>5146</th>\n",
              "      <td>5147</td>\n",
              "      <td>0</td>\n",
              "      <td>1</td>\n",
              "    </tr>\n",
              "    <tr>\n",
              "      <th>5148</th>\n",
              "      <td>5149</td>\n",
              "      <td>0</td>\n",
              "      <td>1</td>\n",
              "    </tr>\n",
              "  </tbody>\n",
              "</table>\n",
              "<p>5148 rows × 3 columns</p>\n",
              "</div>"
            ],
            "text/plain": [
              "      neighbor_id  similarity  num_interactions\n",
              "3869         3870          74               144\n",
              "3781         3782          39               363\n",
              "22             23          38               364\n",
              "202           203          33               160\n",
              "4458         4459          33               158\n",
              "...           ...         ...               ...\n",
              "5130         5131           0                 1\n",
              "5140         5141           0                 1\n",
              "5143         5144           0                 1\n",
              "5146         5147           0                 1\n",
              "5148         5149           0                 1\n",
              "\n",
              "[5148 rows x 3 columns]"
            ]
          },
          "execution_count": 36,
          "metadata": {},
          "output_type": "execute_result"
        }
      ],
      "execution_count": 36
    },
    {
      "cell_type": "code",
      "source": "## Dictionary Test Here\nsol_5_dict = {\n    'The user that is most similar to user 1.': user1_most_sim, \n    'The user that is the 10th most similar to user 131': user131_10th_sim,\n}\n\n#t.sol_5_test(sol_5_dict)",
      "metadata": {},
      "outputs": [],
      "execution_count": 37
    },
    {
      "cell_type": "markdown",
      "source": "`6.` If we were given a new user, which of the above functions would you be able to use to make recommendations?  Explain.  Can you think of a better way we might make recommendations?  Use the cell below to explain a better method for new users.",
      "metadata": {}
    },
    {
      "cell_type": "markdown",
      "source": "For a new user who has no interaction history (i.e., a \"cold start\" problem), collaborative filtering methods that rely on user-item interactions, such as the user-user collaborative filtering implemented in the functions provided, would not be effective. These methods depend on the user's historical interactions with items to identify similar users and recommend items based on their preferences. This information can be used to recommend articles that match their stated preferences.\n\nIn the case, a better approach might be to use content-based recommendations, then possibly hybrid recommendations (when they have interacted with enough items to build a user profile). New user can be asked to provide preferences or answer a few questions about their interests. \n\nRecommending popular items that are generally well-received by a broad audience can also be a good idea.\nThis can serve as a temporary solution until enough user interactions are available to provide personalized recommendations.",
      "metadata": {}
    },
    {
      "cell_type": "markdown",
      "source": "`7.` Using your existing functions, provide the top 10 recommended articles you would provide for the a new user below.  You can test your function against our thoughts to make sure we are all on the same page with how we might make a recommendation.",
      "metadata": {}
    },
    {
      "cell_type": "code",
      "source": "def get_top_article_ids(n, df=df):\n\n    top_article_ids = df['article_id'].value_counts().head(n).index.tolist()\n    \n    return top_article_ids\n\n# Example usage to get the top 10 recommended article ids\nprint(get_top_article_ids(10))",
      "metadata": {},
      "outputs": [
        {
          "name": "stdout",
          "output_type": "stream",
          "text": [
            "['1429.0', '1330.0', '1431.0', '1427.0', '1364.0', '1314.0', '1293.0', '1170.0', '1162.0', '1304.0']\n"
          ]
        }
      ],
      "execution_count": 38
    },
    {
      "cell_type": "code",
      "source": "new_user = '0.0'\n\n# What would your recommendations be for this new user '0.0'?  As a new user, they have no observed articles.\n# Provide a list of the top 10 article ids you would give to \nnew_user_recs = get_top_article_ids(10) # Your recommendations here\n\n",
      "metadata": {},
      "outputs": [],
      "execution_count": 39
    },
    {
      "cell_type": "code",
      "source": "assert set(new_user_recs) == set(['1314.0','1429.0','1293.0','1427.0','1162.0','1364.0','1304.0','1170.0','1431.0','1330.0']), \"Oops!  It makes sense that in this case we would want to recommend the most popular articles, because we don't know anything about these users.\"\n\nprint(\"That's right!  Nice job!\")",
      "metadata": {},
      "outputs": [
        {
          "name": "stdout",
          "output_type": "stream",
          "text": [
            "That's right!  Nice job!\n"
          ]
        }
      ],
      "execution_count": 40
    },
    {
      "cell_type": "markdown",
      "source": "### <a class=\"anchor\" id=\"Content-Recs\">Part IV: Content Based Recommendations (EXTRA - NOT REQUIRED)</a>\n\nAnother method we might use to make recommendations is to perform a ranking of the highest ranked articles associated with some term.  You might consider content to be the **doc_body**, **doc_description**, or **doc_full_name**.  There isn't one way to create a content based recommendation, especially considering that each of these columns hold content related information.  \n\n`1.` Use the function body below to create a content based recommender.  Since there isn't one right answer for this recommendation tactic, no test functions are provided.  Feel free to change the function inputs if you decide you want to try a method that requires more input values.  The input values are currently set with one idea in mind that you may use to make content based recommendations.  One additional idea is that you might want to choose the most popular recommendations that meet your 'content criteria', but again, there is a lot of flexibility in how you might make these recommendations.\n\n### This part is NOT REQUIRED to pass this project.  However, you may choose to take this on as an extra way to show off your skills.",
      "metadata": {}
    },
    {
      "cell_type": "code",
      "source": "def make_content_recs():\n    '''\n    INPUT:\n    \n    OUTPUT:\n    \n    '''",
      "metadata": {},
      "outputs": [],
      "execution_count": 41
    },
    {
      "cell_type": "markdown",
      "source": "`2.` Now that you have put together your content-based recommendation system, use the cell below to write a summary explaining how your content based recommender works.  Do you see any possible improvements that could be made to your function?  Is there anything novel about your content based recommender?\n\n### This part is NOT REQUIRED to pass this project.  However, you may choose to take this on as an extra way to show off your skills.",
      "metadata": {}
    },
    {
      "cell_type": "markdown",
      "source": "**Write an explanation of your content based recommendation system here.**",
      "metadata": {}
    },
    {
      "cell_type": "markdown",
      "source": "`3.` Use your content-recommendation system to make recommendations for the below scenarios based on the comments.  Again no tests are provided here, because there isn't one right answer that could be used to find these content based recommendations.\n\n### This part is NOT REQUIRED to pass this project.  However, you may choose to take this on as an extra way to show off your skills.",
      "metadata": {}
    },
    {
      "cell_type": "code",
      "source": "# make recommendations for a brand new user\n\n\n# make a recommendations for a user who only has interacted with article id '1427.0'\n\n",
      "metadata": {},
      "outputs": [],
      "execution_count": 42
    },
    {
      "cell_type": "markdown",
      "source": "### <a class=\"anchor\" id=\"Matrix-Fact\">Part V: Matrix Factorization</a>\n\nIn this part of the notebook, you will build use matrix factorization to make article recommendations to the users on the IBM Watson Studio platform.\n\n`1.` You should have already created a **user_item** matrix above in **question 1** of **Part III** above.  This first question here will just require that you run the cells to get things set up for the rest of **Part V** of the notebook. ",
      "metadata": {}
    },
    {
      "cell_type": "code",
      "source": "# Load the matrix here\nuser_item_matrix = pd.read_pickle('user_item_matrix.p')",
      "metadata": {},
      "outputs": [],
      "execution_count": 43
    },
    {
      "cell_type": "code",
      "source": "# quick look at the matrix\nuser_item_matrix.head()",
      "metadata": {},
      "outputs": [
        {
          "data": {
            "text/html": [
              "<div>\n",
              "<style scoped>\n",
              "    .dataframe tbody tr th:only-of-type {\n",
              "        vertical-align: middle;\n",
              "    }\n",
              "\n",
              "    .dataframe tbody tr th {\n",
              "        vertical-align: top;\n",
              "    }\n",
              "\n",
              "    .dataframe thead th {\n",
              "        text-align: right;\n",
              "    }\n",
              "</style>\n",
              "<table border=\"1\" class=\"dataframe\">\n",
              "  <thead>\n",
              "    <tr style=\"text-align: right;\">\n",
              "      <th>article_id</th>\n",
              "      <th>0.0</th>\n",
              "      <th>100.0</th>\n",
              "      <th>1000.0</th>\n",
              "      <th>1004.0</th>\n",
              "      <th>1006.0</th>\n",
              "      <th>1008.0</th>\n",
              "      <th>101.0</th>\n",
              "      <th>1014.0</th>\n",
              "      <th>1015.0</th>\n",
              "      <th>1016.0</th>\n",
              "      <th>...</th>\n",
              "      <th>977.0</th>\n",
              "      <th>98.0</th>\n",
              "      <th>981.0</th>\n",
              "      <th>984.0</th>\n",
              "      <th>985.0</th>\n",
              "      <th>986.0</th>\n",
              "      <th>990.0</th>\n",
              "      <th>993.0</th>\n",
              "      <th>996.0</th>\n",
              "      <th>997.0</th>\n",
              "    </tr>\n",
              "    <tr>\n",
              "      <th>user_id</th>\n",
              "      <th></th>\n",
              "      <th></th>\n",
              "      <th></th>\n",
              "      <th></th>\n",
              "      <th></th>\n",
              "      <th></th>\n",
              "      <th></th>\n",
              "      <th></th>\n",
              "      <th></th>\n",
              "      <th></th>\n",
              "      <th></th>\n",
              "      <th></th>\n",
              "      <th></th>\n",
              "      <th></th>\n",
              "      <th></th>\n",
              "      <th></th>\n",
              "      <th></th>\n",
              "      <th></th>\n",
              "      <th></th>\n",
              "      <th></th>\n",
              "      <th></th>\n",
              "    </tr>\n",
              "  </thead>\n",
              "  <tbody>\n",
              "    <tr>\n",
              "      <th>1</th>\n",
              "      <td>0.0</td>\n",
              "      <td>0.0</td>\n",
              "      <td>0.0</td>\n",
              "      <td>0.0</td>\n",
              "      <td>0.0</td>\n",
              "      <td>0.0</td>\n",
              "      <td>0.0</td>\n",
              "      <td>0.0</td>\n",
              "      <td>0.0</td>\n",
              "      <td>0.0</td>\n",
              "      <td>...</td>\n",
              "      <td>0.0</td>\n",
              "      <td>0.0</td>\n",
              "      <td>1.0</td>\n",
              "      <td>0.0</td>\n",
              "      <td>0.0</td>\n",
              "      <td>0.0</td>\n",
              "      <td>0.0</td>\n",
              "      <td>0.0</td>\n",
              "      <td>0.0</td>\n",
              "      <td>0.0</td>\n",
              "    </tr>\n",
              "    <tr>\n",
              "      <th>2</th>\n",
              "      <td>0.0</td>\n",
              "      <td>0.0</td>\n",
              "      <td>0.0</td>\n",
              "      <td>0.0</td>\n",
              "      <td>0.0</td>\n",
              "      <td>0.0</td>\n",
              "      <td>0.0</td>\n",
              "      <td>0.0</td>\n",
              "      <td>0.0</td>\n",
              "      <td>0.0</td>\n",
              "      <td>...</td>\n",
              "      <td>0.0</td>\n",
              "      <td>0.0</td>\n",
              "      <td>0.0</td>\n",
              "      <td>0.0</td>\n",
              "      <td>0.0</td>\n",
              "      <td>0.0</td>\n",
              "      <td>0.0</td>\n",
              "      <td>0.0</td>\n",
              "      <td>0.0</td>\n",
              "      <td>0.0</td>\n",
              "    </tr>\n",
              "    <tr>\n",
              "      <th>3</th>\n",
              "      <td>0.0</td>\n",
              "      <td>0.0</td>\n",
              "      <td>0.0</td>\n",
              "      <td>0.0</td>\n",
              "      <td>0.0</td>\n",
              "      <td>0.0</td>\n",
              "      <td>0.0</td>\n",
              "      <td>0.0</td>\n",
              "      <td>0.0</td>\n",
              "      <td>0.0</td>\n",
              "      <td>...</td>\n",
              "      <td>1.0</td>\n",
              "      <td>0.0</td>\n",
              "      <td>0.0</td>\n",
              "      <td>0.0</td>\n",
              "      <td>0.0</td>\n",
              "      <td>0.0</td>\n",
              "      <td>0.0</td>\n",
              "      <td>0.0</td>\n",
              "      <td>0.0</td>\n",
              "      <td>0.0</td>\n",
              "    </tr>\n",
              "    <tr>\n",
              "      <th>4</th>\n",
              "      <td>0.0</td>\n",
              "      <td>0.0</td>\n",
              "      <td>0.0</td>\n",
              "      <td>0.0</td>\n",
              "      <td>0.0</td>\n",
              "      <td>0.0</td>\n",
              "      <td>0.0</td>\n",
              "      <td>0.0</td>\n",
              "      <td>0.0</td>\n",
              "      <td>0.0</td>\n",
              "      <td>...</td>\n",
              "      <td>0.0</td>\n",
              "      <td>0.0</td>\n",
              "      <td>0.0</td>\n",
              "      <td>0.0</td>\n",
              "      <td>0.0</td>\n",
              "      <td>0.0</td>\n",
              "      <td>0.0</td>\n",
              "      <td>0.0</td>\n",
              "      <td>0.0</td>\n",
              "      <td>0.0</td>\n",
              "    </tr>\n",
              "    <tr>\n",
              "      <th>5</th>\n",
              "      <td>0.0</td>\n",
              "      <td>0.0</td>\n",
              "      <td>0.0</td>\n",
              "      <td>0.0</td>\n",
              "      <td>0.0</td>\n",
              "      <td>0.0</td>\n",
              "      <td>0.0</td>\n",
              "      <td>0.0</td>\n",
              "      <td>0.0</td>\n",
              "      <td>0.0</td>\n",
              "      <td>...</td>\n",
              "      <td>0.0</td>\n",
              "      <td>0.0</td>\n",
              "      <td>0.0</td>\n",
              "      <td>0.0</td>\n",
              "      <td>0.0</td>\n",
              "      <td>0.0</td>\n",
              "      <td>0.0</td>\n",
              "      <td>0.0</td>\n",
              "      <td>0.0</td>\n",
              "      <td>0.0</td>\n",
              "    </tr>\n",
              "  </tbody>\n",
              "</table>\n",
              "<p>5 rows × 714 columns</p>\n",
              "</div>"
            ],
            "text/plain": [
              "article_id  0.0  100.0  1000.0  1004.0  1006.0  1008.0  101.0  1014.0  1015.0  \\\n",
              "user_id                                                                         \n",
              "1           0.0    0.0     0.0     0.0     0.0     0.0    0.0     0.0     0.0   \n",
              "2           0.0    0.0     0.0     0.0     0.0     0.0    0.0     0.0     0.0   \n",
              "3           0.0    0.0     0.0     0.0     0.0     0.0    0.0     0.0     0.0   \n",
              "4           0.0    0.0     0.0     0.0     0.0     0.0    0.0     0.0     0.0   \n",
              "5           0.0    0.0     0.0     0.0     0.0     0.0    0.0     0.0     0.0   \n",
              "\n",
              "article_id  1016.0  ...  977.0  98.0  981.0  984.0  985.0  986.0  990.0  \\\n",
              "user_id             ...                                                   \n",
              "1              0.0  ...    0.0   0.0    1.0    0.0    0.0    0.0    0.0   \n",
              "2              0.0  ...    0.0   0.0    0.0    0.0    0.0    0.0    0.0   \n",
              "3              0.0  ...    1.0   0.0    0.0    0.0    0.0    0.0    0.0   \n",
              "4              0.0  ...    0.0   0.0    0.0    0.0    0.0    0.0    0.0   \n",
              "5              0.0  ...    0.0   0.0    0.0    0.0    0.0    0.0    0.0   \n",
              "\n",
              "article_id  993.0  996.0  997.0  \n",
              "user_id                          \n",
              "1             0.0    0.0    0.0  \n",
              "2             0.0    0.0    0.0  \n",
              "3             0.0    0.0    0.0  \n",
              "4             0.0    0.0    0.0  \n",
              "5             0.0    0.0    0.0  \n",
              "\n",
              "[5 rows x 714 columns]"
            ]
          },
          "execution_count": 44,
          "metadata": {},
          "output_type": "execute_result"
        }
      ],
      "execution_count": 44
    },
    {
      "cell_type": "markdown",
      "source": "`2.` In this situation, you can use Singular Value Decomposition from [numpy](https://docs.scipy.org/doc/numpy-1.14.0/reference/generated/numpy.linalg.svd.html) on the user-item matrix.  Use the cell to perform SVD, and explain why this is different than in the lesson.",
      "metadata": {}
    },
    {
      "cell_type": "code",
      "source": "# Perform SVD on the User-Item Matrix Here\n\nu, s, vt = np.linalg.svd(user_item_matrix, full_matrices=0) # use the built in to get the three matrices",
      "metadata": {},
      "outputs": [],
      "execution_count": 45
    },
    {
      "cell_type": "markdown",
      "source": "There are no null values in the dataset, so SVD can be calculated.",
      "metadata": {}
    },
    {
      "cell_type": "markdown",
      "source": "`3.` Now for the tricky part, how do we choose the number of latent features to use?  Running the below cell, you can see that as the number of latent features increases, we obtain a lower error rate on making predictions for the 1 and 0 values in the user-item matrix.  Run the cell below to get an idea of how the accuracy improves as we increase the number of latent features.",
      "metadata": {}
    },
    {
      "cell_type": "code",
      "source": "num_latent_feats = np.arange(10,700+10,20)\nsum_errs = []\n\nfor k in num_latent_feats:\n    # restructure with k latent features\n    s_new, u_new, vt_new = np.diag(s[:k]), u[:, :k], vt[:k, :]\n    \n    # take dot product\n    user_item_est = np.around(np.dot(np.dot(u_new, s_new), vt_new))\n    \n    # compute error for each prediction to actual value\n    diffs = np.subtract(user_item_matrix, user_item_est)\n    \n    # total errors and keep track of them\n    err = np.sum(np.sum(np.abs(diffs)))\n    sum_errs.append(err)\n    \n    \nplt.plot(num_latent_feats, 1 - np.array(sum_errs)/df.shape[0]);\nplt.xlabel('Number of Latent Features');\nplt.ylabel('Accuracy');\nplt.title('Accuracy vs. Number of Latent Features');",
      "metadata": {},
      "outputs": [
        {
          "data": {
            "image/png": "[encoded data removed]",
            "text/plain": [
              "<Figure size 640x480 with 1 Axes>"
            ]
          },
          "metadata": {},
          "output_type": "display_data"
        }
      ],
      "execution_count": 46
    },
    {
      "cell_type": "markdown",
      "source": "`4.` From the above, we can't really be sure how many features to use, because simply having a better way to predict the 1's and 0's of the matrix doesn't exactly give us an indication of if we are able to make good recommendations.  Instead, we might split our dataset into a training and test set of data, as shown in the cell below.  \n\nUse the code from question 3 to understand the impact on accuracy of the training and test sets of data with different numbers of latent features. Using the split below: \n\n* How many users can we make predictions for in the test set?  \n* How many users are we not able to make predictions for because of the cold start problem?\n* How many articles can we make predictions for in the test set?  \n* How many articles are we not able to make predictions for because of the cold start problem?",
      "metadata": {}
    },
    {
      "cell_type": "code",
      "source": "df_train = df.head(40000)\ndf_test = df.tail(5993)\n\ndef create_test_and_train_user_item(df_train, df_test):\n    '''\n    INPUT:\n    df_train - training dataframe\n    df_test - test dataframe\n    \n    OUTPUT:\n    user_item_train - a user-item matrix of the training dataframe \n                      (unique users for each row and unique articles for each column)\n    user_item_test - a user-item matrix of the testing dataframe \n                    (unique users for each row and unique articles for each column)\n    test_idx - all of the test user ids\n    test_arts - all of the test article ids\n    \n    '''\n    # create user_item matrix into test and train\n    user_item_train = create_user_item_matrix(df_train)   \n    user_item_test = create_user_item_matrix(df_test)\n    \n    # all test user ids\n    test_idx = user_item_test.index.values\n        \n    # get all unique test article ids\n    test_arts = user_item_test.columns.values\n    \n    return user_item_train, user_item_test, test_idx, test_arts\n\nuser_item_train, user_item_test, test_idx, test_arts = create_test_and_train_user_item(df_train, df_test)",
      "metadata": {},
      "outputs": [],
      "execution_count": 47
    },
    {
      "cell_type": "code",
      "source": "print('ad. 1)')\nprint(len(set(user_item_train.index).intersection(user_item_test.index)))\nprint('ad. 2)')\nprint(user_item_test.shape[0]-len(set(user_item_train.index).intersection(user_item_test.index)))\nprint('ad. 3)')\nprint(len(np.intersect1d(test_arts, user_item_train.columns.values)))\nprint('ad. 4)')\nprint(len(test_arts) - len(np.intersect1d(test_arts, user_item_train.columns.values)))",
      "metadata": {},
      "outputs": [
        {
          "name": "stdout",
          "output_type": "stream",
          "text": [
            "ad. 1)\n",
            "20\n",
            "ad. 2)\n",
            "662\n",
            "ad. 3)\n",
            "574\n",
            "ad. 4)\n",
            "0\n"
          ]
        }
      ],
      "execution_count": 48
    },
    {
      "cell_type": "code",
      "source": "# Replace the values in the dictionary below\na = 662 \nb = 574 \nc = 20 \nd = 0 \n\n\nsol_4_dict = {\n    'How many users can we make predictions for in the test set?': c,\n    'How many users in the test set are we not able to make predictions for because of the cold start problem?': a, \n    'How many articles can we make predictions for in the test set?': b,\n    'How many articles in the test set are we not able to make predictions for because of the cold start problem?': d\n}\n\n#t.sol_4_test(sol_4_dict)\n",
      "metadata": {},
      "outputs": [
        {
          "name": "stdout",
          "output_type": "stream",
          "text": [
            "Awesome job!  That's right!  All of the test articles are in the training data, but there are only 20 test users that were also in the training set.  All of the other users that are in the test set we have no data on.  Therefore, we cannot make predictions for these users using SVD.\n"
          ]
        }
      ],
      "execution_count": 50
    },
    {
      "cell_type": "markdown",
      "source": "`5.` Now use the **user_item_train** dataset from above to find U, S, and V transpose using SVD. Then find the subset of rows in the **user_item_test** dataset that you can predict using this matrix decomposition with different numbers of latent features to see how many features makes sense to keep based on the accuracy on the test data. This will require combining what was done in questions `2` - `4`.\n\nUse the cells below to explore how well SVD works towards making predictions for recommendations on the test data.  ",
      "metadata": {}
    },
    {
      "cell_type": "code",
      "source": "# fit SVD on the user_item_train matrix\nu_train, s_train, vt_train = np.linalg.svd(user_item_train, full_matrices=0)",
      "metadata": {},
      "outputs": [],
      "execution_count": 51
    },
    {
      "cell_type": "code",
      "source": "u_test = u_train[user_item_train.index.isin(test_idx),:]\n\nvt_test = vt_train[:,user_item_train.columns.isin(test_arts)]\n\nuser_item_test_main = user_item_test[user_item_test.index.isin(set(user_item_train.index).intersection(user_item_test.index))]",
      "metadata": {},
      "outputs": [],
      "execution_count": 52
    },
    {
      "cell_type": "code",
      "source": "num_latent_feats = np.arange(10,700+10,20)\nsum_train_errs = []\nsum_test_errs = []\n\nfor k in num_latent_feats:\n    # restructure with k latent features\n    s_new, u_new, vt_new, u_test_new, vt_test_new = np.diag(s_train[:k]), u_train[:, :k], vt_train[:k, :], u_test[:,:k], vt_test[:k,:]\n    \n    user_item_train_pred = np.around(np.dot(np.dot(u_new, s_new), vt_new))\n    user_item_test_pred = np.around(np.dot(np.dot(u_test_new, s_new), vt_test_new))\n    \n    # error for each training and testing prediction to actual value\n    diffs_test = np.subtract(user_item_test_main, user_item_test_pred)\n    diffs_train = np.subtract(user_item_train, user_item_train_pred)\n\n    # total errors\n    train_err = np.sum(np.sum(np.abs(diffs_train)))\n    test_err = np.sum(np.sum(np.abs(diffs_test)))\n\n    sum_train_errs.append(train_err)\n    sum_test_errs.append(test_err)\n    \nplt.plot(num_latent_feats, 1 - np.array(sum_test_errs)/(user_item_test_main.shape[0] * user_item_test.shape[1]), label = 'Testing');\nplt.plot(num_latent_feats, 1 - np.array(sum_train_errs)/(user_item_train.shape[0] * user_item_test.shape[1]), label = 'Training');\nplt.legend()\nplt.xlabel('Number of Latent Features');\nplt.ylabel('Accuracy');\nplt.title('Accuracy vs. Number of Latent Features');",
      "metadata": {
        "trusted": true
      },
      "outputs": [],
      "execution_count": null
    },
    {
      "cell_type": "code",
      "source": "user_item_test_pred = np.around(np.dot(np.dot(u_test, np.diag(s_train)), vt_test))\n\n# Get the indices and columns of the test set\ntest_idx, test_arts = user_item_test_main.index.values, user_item_test_main.columns.values\n\n# Create a mask for the test set\ntest_mask = user_item_test_main.values == 1\n\n# Calculate the Mean Squared Error (MSE)\nmse = np.sum((user_item_test_pred[test_mask] - user_item_test_main.values[test_mask]) ** 2) / np.sum(test_mask)\n\nprint(f\"Mean Squared Error (MSE) on the test set: {mse}\")",
      "metadata": {},
      "outputs": [
        {
          "name": "stdout",
          "output_type": "stream",
          "text": [
            "Mean Squared Error (MSE) on the test set: 0.8761467889908257\n"
          ]
        }
      ],
      "execution_count": 53
    },
    {
      "cell_type": "code",
      "source": "from sklearn.metrics import accuracy_score, precision_score, recall_score\n\n# Convert predicted interactions to binary values (0 or 1)\nuser_item_test_pred_binary = np.where(user_item_test_pred > 0, 1, 0)\n\n# Flatten the actual and predicted interactions for comparison\nactual_interactions = user_item_test_main.values.flatten()\npredicted_interactions = user_item_test_pred_binary.flatten()\n\n# Calculate accuracy, precision, and recall\naccuracy = accuracy_score(actual_interactions, predicted_interactions)\nprecision = precision_score(actual_interactions, predicted_interactions)\nrecall = recall_score(actual_interactions, predicted_interactions)\n\nprint(f\"Accuracy: {accuracy:.2f}\")\nprint(f\"Precision: {precision:.2f}\")\nprint(f\"Recall: {recall:.2f}\")",
      "metadata": {},
      "outputs": [
        {
          "name": "stdout",
          "output_type": "stream",
          "text": [
            "Accuracy: 0.96\n",
            "Precision: 0.11\n",
            "Recall: 0.12\n"
          ]
        }
      ],
      "execution_count": 54
    },
    {
      "cell_type": "markdown",
      "source": "`6.` Use the cell below to comment on the results you found in the previous question. Given the circumstances of your results, discuss what you might do to determine if the recommendations you make with any of the above recommendation systems are an improvement to how users currently find articles? ",
      "metadata": {
        "collapsed": true,
        "jupyter": {
          "outputs_hidden": true
        }
      }
    },
    {
      "cell_type": "markdown",
      "source": "With an accuracy of 0.96, precision of 0.11, and recall of 0.12, our recommendation system accurately identifies most user interactions but struggles with recommending highly relevant articles. To determine if our recommendations improve user experience, we should:\n\n- Conduct A/B Testing: Compare user engagement between our system and the current one.\n- Gather User Feedback: Understand user preferences and issues through surveys or interviews.\n- Monitor Incremental Changes: Track how tweaks affect precision and recall.\n- Assess Diversity and Novelty: Ensure recommendations are varied and uncover less obvious articles.\n- Track Long-term Engagement: Observe if improvements lead to sustained user interest.\n- Benchmark: Compare our system against industry standards.\n\nBy addressing both the broad accuracy and the specific relevance of our recommendations, we aim to enhance user engagement and satisfaction significantly.\n\n\n- User Feedback and Surveys\n\nCollecting qualitative feedback from users to understand their satisfaction with the recommended articles.\nConducting user surveys to gather insights into whether users find the recommendations valuable and aligned with their interests.\n\n- A/B Testing\n\nImplementing A/B testing to compare the current recommendation system with alternative strategies.\nRandomly assigning users to different recommendation algorithms and measure user engagement, click-through rates, and other relevant metrics.\n\n- Tune Model Parameters\n\nExperimenting with different hyperparameters of the SVD model to see if there are configurations that yield better results.\nConsidering adjusting the number of latent features or regularization parameters to optimize performance.",
      "metadata": {}
    },
    {
      "cell_type": "markdown",
      "source": "<a id='conclusions'></a>\n### Extras\nUsing your workbook, you could now save your recommendations for each user, develop a class to make new predictions and update your results, and make a flask app to deploy your results.  These tasks are beyond what is required for this project.  However, from what you learned in the lessons, you certainly capable of taking these tasks on to improve upon your work here!\n\n\n## Conclusion\n\n> Congratulations!  You have reached the end of the Recommendations with IBM project! \n\n> **Tip**: Once you are satisfied with your work here, check over your report to make sure that it is satisfies all the areas of the [rubric](https://review.udacity.com/#!/rubrics/2322/view). You should also probably remove all of the \"Tips\" like this one so that the presentation is as polished as possible.\n\n\n## Directions to Submit\n\n> Before you submit your project, you need to create a .html or .pdf version of this notebook in the workspace here. To do that, run the code cell below. If it worked correctly, you should get a return code of 0, and you should see the generated .html file in the workspace directory (click on the orange Jupyter icon in the upper left).\n\n> Alternatively, you can download this report as .html via the **File** > **Download as** submenu, and then manually upload it into the workspace directory by clicking on the orange Jupyter icon in the upper left, then using the Upload button.\n\n> Once you've done this, you can submit your project by clicking on the \"Submit Project\" button in the lower right here. This will create and submit a zip file with this .ipynb doc and the .html or .pdf version you created. Congratulations! ",
      "metadata": {
        "collapsed": true,
        "jupyter": {
          "outputs_hidden": true
        }
      }
    },
    {
      "cell_type": "code",
      "source": "from subprocess import call\ncall(['python', '-m', 'nbconvert', 'Recommendations_with_IBM.ipynb'])",
      "metadata": {},
      "outputs": [
        {
          "data": {
            "text/plain": [
              "1"
            ]
          },
          "execution_count": 55,
          "metadata": {},
          "output_type": "execute_result"
        }
      ],
      "execution_count": 55
    },
    {
      "cell_type": "code",
      "source": "",
      "metadata": {},
      "outputs": [],
      "execution_count": null
    }
  ]
}